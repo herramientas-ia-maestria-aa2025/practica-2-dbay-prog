{
 "cells": [
  {
   "cell_type": "code",
   "id": "28845814",
   "metadata": {
    "ExecuteTime": {
     "end_time": "2025-05-17T11:56:00.172680Z",
     "start_time": "2025-05-17T11:56:00.168505Z"
    }
   },
   "source": [
    "# Cargar librerías\n",
    "import pandas as pd\n",
    "import numpy as np\n",
    "from sklearn.linear_model import LogisticRegression\n",
    "from sklearn.preprocessing import StandardScaler\n",
    "from sklearn.pipeline import Pipeline\n",
    "from sklearn.model_selection import train_test_split\n",
    "from sklearn.metrics import accuracy_score, precision_score\n",
    "import mlflow\n",
    "import mlflow.sklearn\n"
   ],
   "outputs": [],
   "execution_count": 9
  },
  {
   "cell_type": "code",
   "id": "da619e05",
   "metadata": {
    "ExecuteTime": {
     "end_time": "2025-05-17T11:56:02.493574Z",
     "start_time": "2025-05-17T11:56:02.472278Z"
    }
   },
   "source": [
    "# Leer datos\n",
    "df = pd.read_csv(\"data/diabetes.csv\")\n",
    "df.head()"
   ],
   "outputs": [
    {
     "data": {
      "text/plain": [
       "   Pregnancies  Glucose  BloodPressure  SkinThickness  Insulin   BMI  \\\n",
       "0            6      148             72             35        0  33.6   \n",
       "1            1       85             66             29        0  26.6   \n",
       "2            8      183             64              0        0  23.3   \n",
       "3            1       89             66             23       94  28.1   \n",
       "4            0      137             40             35      168  43.1   \n",
       "\n",
       "   DiabetesPedigreeFunction  Age  Outcome  \n",
       "0                     0.627   50        1  \n",
       "1                     0.351   31        0  \n",
       "2                     0.672   32        1  \n",
       "3                     0.167   21        0  \n",
       "4                     2.288   33        1  "
      ],
      "text/html": [
       "<div>\n",
       "<style scoped>\n",
       "    .dataframe tbody tr th:only-of-type {\n",
       "        vertical-align: middle;\n",
       "    }\n",
       "\n",
       "    .dataframe tbody tr th {\n",
       "        vertical-align: top;\n",
       "    }\n",
       "\n",
       "    .dataframe thead th {\n",
       "        text-align: right;\n",
       "    }\n",
       "</style>\n",
       "<table border=\"1\" class=\"dataframe\">\n",
       "  <thead>\n",
       "    <tr style=\"text-align: right;\">\n",
       "      <th></th>\n",
       "      <th>Pregnancies</th>\n",
       "      <th>Glucose</th>\n",
       "      <th>BloodPressure</th>\n",
       "      <th>SkinThickness</th>\n",
       "      <th>Insulin</th>\n",
       "      <th>BMI</th>\n",
       "      <th>DiabetesPedigreeFunction</th>\n",
       "      <th>Age</th>\n",
       "      <th>Outcome</th>\n",
       "    </tr>\n",
       "  </thead>\n",
       "  <tbody>\n",
       "    <tr>\n",
       "      <th>0</th>\n",
       "      <td>6</td>\n",
       "      <td>148</td>\n",
       "      <td>72</td>\n",
       "      <td>35</td>\n",
       "      <td>0</td>\n",
       "      <td>33.6</td>\n",
       "      <td>0.627</td>\n",
       "      <td>50</td>\n",
       "      <td>1</td>\n",
       "    </tr>\n",
       "    <tr>\n",
       "      <th>1</th>\n",
       "      <td>1</td>\n",
       "      <td>85</td>\n",
       "      <td>66</td>\n",
       "      <td>29</td>\n",
       "      <td>0</td>\n",
       "      <td>26.6</td>\n",
       "      <td>0.351</td>\n",
       "      <td>31</td>\n",
       "      <td>0</td>\n",
       "    </tr>\n",
       "    <tr>\n",
       "      <th>2</th>\n",
       "      <td>8</td>\n",
       "      <td>183</td>\n",
       "      <td>64</td>\n",
       "      <td>0</td>\n",
       "      <td>0</td>\n",
       "      <td>23.3</td>\n",
       "      <td>0.672</td>\n",
       "      <td>32</td>\n",
       "      <td>1</td>\n",
       "    </tr>\n",
       "    <tr>\n",
       "      <th>3</th>\n",
       "      <td>1</td>\n",
       "      <td>89</td>\n",
       "      <td>66</td>\n",
       "      <td>23</td>\n",
       "      <td>94</td>\n",
       "      <td>28.1</td>\n",
       "      <td>0.167</td>\n",
       "      <td>21</td>\n",
       "      <td>0</td>\n",
       "    </tr>\n",
       "    <tr>\n",
       "      <th>4</th>\n",
       "      <td>0</td>\n",
       "      <td>137</td>\n",
       "      <td>40</td>\n",
       "      <td>35</td>\n",
       "      <td>168</td>\n",
       "      <td>43.1</td>\n",
       "      <td>2.288</td>\n",
       "      <td>33</td>\n",
       "      <td>1</td>\n",
       "    </tr>\n",
       "  </tbody>\n",
       "</table>\n",
       "</div>"
      ]
     },
     "execution_count": 10,
     "metadata": {},
     "output_type": "execute_result"
    }
   ],
   "execution_count": 10
  },
  {
   "cell_type": "code",
   "id": "f287d4ff-786f-400c-acbd-06af393ea280",
   "metadata": {
    "ExecuteTime": {
     "end_time": "2025-05-17T11:56:04.552819Z",
     "start_time": "2025-05-17T11:56:04.541851Z"
    }
   },
   "source": [
    "# identifica las columnas que tiene valores 0\n",
    "(df==0).sum()"
   ],
   "outputs": [
    {
     "data": {
      "text/plain": [
       "Pregnancies                 111\n",
       "Glucose                       5\n",
       "BloodPressure                35\n",
       "SkinThickness               227\n",
       "Insulin                     374\n",
       "BMI                          11\n",
       "DiabetesPedigreeFunction      0\n",
       "Age                           0\n",
       "Outcome                     500\n",
       "dtype: int64"
      ]
     },
     "execution_count": 11,
     "metadata": {},
     "output_type": "execute_result"
    }
   ],
   "execution_count": 11
  },
  {
   "cell_type": "code",
   "id": "9d063202-3384-456c-8bbf-924911f25144",
   "metadata": {
    "ExecuteTime": {
     "end_time": "2025-05-17T11:56:06.704032Z",
     "start_time": "2025-05-17T11:56:06.686522Z"
    }
   },
   "source": [
    "# Reemplazar ceros en columnas específicas por NaN\n",
    "cols_to_clean = ['Glucose', 'BloodPressure', 'SkinThickness', 'Insulin']\n",
    "# No se consideran algunas, por ejemplo Pregnancies (por qué si es posible que se tengan cero embarazos)\n",
    "\n",
    "# Reemplazar ceros por NaN para poder tratarlos como datos faltantes\n",
    "for col in cols_to_clean:\n",
    "    df[col] = df[col].replace(0, np.nan)\n",
    "\n",
    "# Reemplazar NaN con la moda (valor más frecuente) de cada columna\n",
    "for col in cols_to_clean:\n",
    "    moda = df[col].mode()[0]# buscar el método más común para determinar la moda de una columna\n",
    "    df[col] = df[col].fillna(moda)\n"
   ],
   "outputs": [],
   "execution_count": 12
  },
  {
   "cell_type": "code",
   "id": "4be9af71",
   "metadata": {
    "ExecuteTime": {
     "end_time": "2025-05-17T11:56:10.024697Z",
     "start_time": "2025-05-17T11:56:10.013293Z"
    }
   },
   "source": [
    "# Separar datos\n",
    "X = df.drop(\"Outcome\", axis=1)\n",
    "y = df[\"Outcome\"]\n",
    "\n",
    "X_train, X_test, y_train, y_test = train_test_split(X, y, test_size=0.2, random_state=42)\n"
   ],
   "outputs": [],
   "execution_count": 13
  },
  {
   "cell_type": "code",
   "id": "ee6500fe-a589-4021-a1b0-68d0f1f742c7",
   "metadata": {
    "ExecuteTime": {
     "end_time": "2025-05-17T11:56:12.497836Z",
     "start_time": "2025-05-17T11:56:12.058396Z"
    }
   },
   "source": [
    "# agregar el traking uri de mlflow\n",
    "mlflow.set_tracking_uri(\"http://127.0.0.1:9090\")\n",
    "mlflow.set_experiment(experiment_name=\"ClasificadorDemoDiabetes\")\n",
    "# agregar set_experiment con nombre: ClasificadorDemoDiabetes\n"
   ],
   "outputs": [
    {
     "name": "stderr",
     "output_type": "stream",
     "text": [
      "2025/05/17 06:56:12 INFO mlflow.tracking.fluent: Experiment with name 'ClasificadorDemoDiabetes' does not exist. Creating a new experiment.\n"
     ]
    },
    {
     "data": {
      "text/plain": [
       "<Experiment: artifact_location='mlflow-artifacts:/1', creation_time=1747482972081, experiment_id='1', last_update_time=1747482972081, lifecycle_stage='active', name='ClasificadorDemoDiabetes', tags={}>"
      ]
     },
     "execution_count": 14,
     "metadata": {},
     "output_type": "execute_result"
    }
   ],
   "execution_count": 14
  },
  {
   "cell_type": "code",
   "id": "c5784cd6",
   "metadata": {
    "ExecuteTime": {
     "end_time": "2025-05-17T11:56:42.641705Z",
     "start_time": "2025-05-17T11:56:17.116972Z"
    }
   },
   "source": [
    "# Entrenamiento y registro con MLflow\n",
    "C = 1.0\n",
    "max_iter = 1000\n",
    "# usar los parámetros del archivo logreg_variaciones_educativas.csv\n",
    "# para los parámtros C, max_iter, solver y penalty de LogisticRegresion\n",
    "# se debe genear un run por cada fila del archivo, usando sus parámetros\n",
    "# Analizar que usar\n",
    "\n",
    "# agregar la línea del start_run\n",
    "data = pd.read_csv(\"data/logreg_variaciones_educativas.csv\", header=0)\n",
    "c = data['logreg_C'].tolist()\n",
    "m = data['logreg_max_iter'].tolist()\n",
    "solver = data['solver'].tolist()\n",
    "penalty = data['penalty'].tolist()\n",
    "\n",
    "for i in range(len(c)):\n",
    "\n",
    "    with mlflow.start_run(run_name=f\"LR_Run_{i}\"):\n",
    "        # El pipeline usar StandarScaler para que todos los valore numéricos estén en la misma escala\n",
    "        # no cambiar dicha línea\n",
    "        # LogisticRegresion deben variar sus parámetros en cada iteración.\n",
    "        pipeline = Pipeline([\n",
    "                (\"scaler\", StandardScaler()),\n",
    "                (\"clf\", LogisticRegression(\n",
    "                    C=c[i],\n",
    "                    max_iter=m[i],\n",
    "                    solver=solver[i],\n",
    "                    penalty=penalty[i]\n",
    "                ))\n",
    "            ])\n",
    "\n",
    "        # Entrenar y evaluar\n",
    "        pipeline.fit(X_train, y_train)\n",
    "        y_pred = pipeline.predict(X_test)\n",
    "\n",
    "        acc = accuracy_score(y_test, y_pred)\n",
    "        prec = precision_score(y_test, y_pred)\n",
    "\n",
    "        # recuerde que log_param y log_metric debe ir guardando los valores\n",
    "        # dependiendo del run correspondiente de cada fila\n",
    "        mlflow.log_param(\"logreg_C\", C)\n",
    "        mlflow.log_param(\"logreg_max_iter\", max_iter)\n",
    "        mlflow.log_param(\"solver\", \"liblinear\")\n",
    "        mlflow.log_param(\"penalty\", \"l2\")\n",
    "\n",
    "        mlflow.log_metric(\"accuracy\", acc)\n",
    "        mlflow.log_metric(\"precision\", prec)\n",
    "\n",
    "        # Guardar el pipeline completo\n",
    "        mlflow.sklearn.log_model(pipeline, \"modelo_pipeline\")\n",
    "\n",
    "        print(\" Modelo registrado en MLflow\")\n",
    "        print(f\"Accuracy: {acc:.4f} | Precision: {prec:.4f}\")\n"
   ],
   "outputs": [
    {
     "name": "stderr",
     "output_type": "stream",
     "text": [
      "\u001B[31m2025/05/17 06:56:19 WARNING mlflow.models.model: Model logged without a signature and input example. Please set `input_example` parameter when logging the model to auto infer the model signature.\u001B[0m\n"
     ]
    },
    {
     "name": "stdout",
     "output_type": "stream",
     "text": [
      " Modelo registrado en MLflow\n",
      "Accuracy: 0.7208 | Precision: 0.6034\n",
      "🏃 View run LR_Run_0 at: http://127.0.0.1:9090/#/experiments/1/runs/dc53d79df68b4a9aa688f4d170c0afba\n",
      "🧪 View experiment at: http://127.0.0.1:9090/#/experiments/1\n"
     ]
    },
    {
     "name": "stderr",
     "output_type": "stream",
     "text": [
      "\u001B[31m2025/05/17 06:56:22 WARNING mlflow.models.model: Model logged without a signature and input example. Please set `input_example` parameter when logging the model to auto infer the model signature.\u001B[0m\n"
     ]
    },
    {
     "name": "stdout",
     "output_type": "stream",
     "text": [
      " Modelo registrado en MLflow\n",
      "Accuracy: 0.7532 | Precision: 0.6667\n",
      "🏃 View run LR_Run_1 at: http://127.0.0.1:9090/#/experiments/1/runs/7514aa98fe524b558e663d5569252035\n",
      "🧪 View experiment at: http://127.0.0.1:9090/#/experiments/1\n"
     ]
    },
    {
     "name": "stderr",
     "output_type": "stream",
     "text": [
      "\u001B[31m2025/05/17 06:56:25 WARNING mlflow.models.model: Model logged without a signature and input example. Please set `input_example` parameter when logging the model to auto infer the model signature.\u001B[0m\n"
     ]
    },
    {
     "name": "stdout",
     "output_type": "stream",
     "text": [
      " Modelo registrado en MLflow\n",
      "Accuracy: 0.7532 | Precision: 0.6667\n",
      "🏃 View run LR_Run_2 at: http://127.0.0.1:9090/#/experiments/1/runs/a4083b80518b425ab824411e9913cbf6\n",
      "🧪 View experiment at: http://127.0.0.1:9090/#/experiments/1\n"
     ]
    },
    {
     "name": "stderr",
     "output_type": "stream",
     "text": [
      "\u001B[31m2025/05/17 06:56:27 WARNING mlflow.models.model: Model logged without a signature and input example. Please set `input_example` parameter when logging the model to auto infer the model signature.\u001B[0m\n"
     ]
    },
    {
     "name": "stdout",
     "output_type": "stream",
     "text": [
      " Modelo registrado en MLflow\n",
      "Accuracy: 0.7532 | Precision: 0.6667\n",
      "🏃 View run LR_Run_3 at: http://127.0.0.1:9090/#/experiments/1/runs/1a4756c0f4cb486d93f1135993fd8e4c\n",
      "🧪 View experiment at: http://127.0.0.1:9090/#/experiments/1\n"
     ]
    },
    {
     "name": "stderr",
     "output_type": "stream",
     "text": [
      "\u001B[31m2025/05/17 06:56:30 WARNING mlflow.models.model: Model logged without a signature and input example. Please set `input_example` parameter when logging the model to auto infer the model signature.\u001B[0m\n"
     ]
    },
    {
     "name": "stdout",
     "output_type": "stream",
     "text": [
      " Modelo registrado en MLflow\n",
      "Accuracy: 0.7532 | Precision: 0.6667\n",
      "🏃 View run LR_Run_4 at: http://127.0.0.1:9090/#/experiments/1/runs/a4ad4ca0493f4d0da66518a1126f1307\n",
      "🧪 View experiment at: http://127.0.0.1:9090/#/experiments/1\n"
     ]
    },
    {
     "name": "stderr",
     "output_type": "stream",
     "text": [
      "\u001B[31m2025/05/17 06:56:32 WARNING mlflow.models.model: Model logged without a signature and input example. Please set `input_example` parameter when logging the model to auto infer the model signature.\u001B[0m\n"
     ]
    },
    {
     "name": "stdout",
     "output_type": "stream",
     "text": [
      " Modelo registrado en MLflow\n",
      "Accuracy: 0.7532 | Precision: 0.6667\n",
      "🏃 View run LR_Run_5 at: http://127.0.0.1:9090/#/experiments/1/runs/b20c28034305470189b60022c58d2faf\n",
      "🧪 View experiment at: http://127.0.0.1:9090/#/experiments/1\n"
     ]
    },
    {
     "name": "stderr",
     "output_type": "stream",
     "text": [
      "\u001B[31m2025/05/17 06:56:35 WARNING mlflow.models.model: Model logged without a signature and input example. Please set `input_example` parameter when logging the model to auto infer the model signature.\u001B[0m\n"
     ]
    },
    {
     "name": "stdout",
     "output_type": "stream",
     "text": [
      " Modelo registrado en MLflow\n",
      "Accuracy: 0.7532 | Precision: 0.6667\n",
      "🏃 View run LR_Run_6 at: http://127.0.0.1:9090/#/experiments/1/runs/2d6554d278ab42e3abab7a565a951376\n",
      "🧪 View experiment at: http://127.0.0.1:9090/#/experiments/1\n"
     ]
    },
    {
     "name": "stderr",
     "output_type": "stream",
     "text": [
      "\u001B[31m2025/05/17 06:56:37 WARNING mlflow.models.model: Model logged without a signature and input example. Please set `input_example` parameter when logging the model to auto infer the model signature.\u001B[0m\n"
     ]
    },
    {
     "name": "stdout",
     "output_type": "stream",
     "text": [
      " Modelo registrado en MLflow\n",
      "Accuracy: 0.7532 | Precision: 0.6667\n",
      "🏃 View run LR_Run_7 at: http://127.0.0.1:9090/#/experiments/1/runs/97955305de454b509e8a8d04df20e4f0\n",
      "🧪 View experiment at: http://127.0.0.1:9090/#/experiments/1\n"
     ]
    },
    {
     "name": "stderr",
     "output_type": "stream",
     "text": [
      "\u001B[31m2025/05/17 06:56:40 WARNING mlflow.models.model: Model logged without a signature and input example. Please set `input_example` parameter when logging the model to auto infer the model signature.\u001B[0m\n"
     ]
    },
    {
     "name": "stdout",
     "output_type": "stream",
     "text": [
      " Modelo registrado en MLflow\n",
      "Accuracy: 0.7532 | Precision: 0.6667\n",
      "🏃 View run LR_Run_8 at: http://127.0.0.1:9090/#/experiments/1/runs/7ae2b111d92c40879af7137d3c9435ce\n",
      "🧪 View experiment at: http://127.0.0.1:9090/#/experiments/1\n"
     ]
    },
    {
     "name": "stderr",
     "output_type": "stream",
     "text": [
      "\u001B[31m2025/05/17 06:56:42 WARNING mlflow.models.model: Model logged without a signature and input example. Please set `input_example` parameter when logging the model to auto infer the model signature.\u001B[0m\n"
     ]
    },
    {
     "name": "stdout",
     "output_type": "stream",
     "text": [
      " Modelo registrado en MLflow\n",
      "Accuracy: 0.7532 | Precision: 0.6667\n",
      "🏃 View run LR_Run_9 at: http://127.0.0.1:9090/#/experiments/1/runs/eed43156273b4c2fbbac1199f2a987b3\n",
      "🧪 View experiment at: http://127.0.0.1:9090/#/experiments/1\n"
     ]
    }
   ],
   "execution_count": 15
  },
  {
   "cell_type": "code",
   "execution_count": null,
   "id": "06c9eb27-a3f2-4e14-b2bc-e308fc71514b",
   "metadata": {},
   "outputs": [],
   "source": []
  }
 ],
 "metadata": {
  "kernelspec": {
   "display_name": "Python 3 (ipykernel)",
   "language": "python",
   "name": "python3"
  },
  "language_info": {
   "codemirror_mode": {
    "name": "ipython",
    "version": 3
   },
   "file_extension": ".py",
   "mimetype": "text/x-python",
   "name": "python",
   "nbconvert_exporter": "python",
   "pygments_lexer": "ipython3",
   "version": "3.10.12"
  }
 },
 "nbformat": 4,
 "nbformat_minor": 5
}
